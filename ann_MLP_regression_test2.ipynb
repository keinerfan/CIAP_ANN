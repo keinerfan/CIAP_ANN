{
  "nbformat": 4,
  "nbformat_minor": 0,
  "metadata": {
    "colab": {
      "provenance": [],
      "authorship_tag": "ABX9TyPQxCkSTcmUr3SbvxuNHg+s",
      "include_colab_link": true
    },
    "kernelspec": {
      "name": "python3",
      "display_name": "Python 3"
    },
    "language_info": {
      "name": "python"
    }
  },
  "cells": [
    {
      "cell_type": "markdown",
      "metadata": {
        "id": "view-in-github",
        "colab_type": "text"
      },
      "source": [
        "<a href=\"https://colab.research.google.com/github/keinerfan/CIAP_ANN/blob/main/ann_MLP_regression_test2.ipynb\" target=\"_parent\"><img src=\"https://colab.research.google.com/assets/colab-badge.svg\" alt=\"Open In Colab\"/></a>"
      ]
    },
    {
      "cell_type": "code",
      "execution_count": null,
      "metadata": {
        "id": "ChCBYikRUqAP"
      },
      "outputs": [],
      "source": [
        "import numpy as np\n",
        "import pandas as pd\n",
        "import matplotlib.pyplot as plt\n",
        "import torch\n",
        "import torch.nn as nn\n",
        "import torch.nn.functional as F\n",
        "from sklearn.preprocessing import StandardScaler\n",
        "from sklearn.model_selection import train_test_split\n",
        "from sklearn.metrics import r2_score\n",
        "\n",
        "# Load the dataset\n",
        "data = pd.read_csv(\"CIAP1_and_CIAP2_06_bioactivity_data_3class_pIC50_pubchem_fp.csv\")\n",
        "\n",
        "# Feature selection using VarianceThreshold\n",
        "from sklearn.decomposition import PCA\n",
        "pca = PCA(n_components=104)\n",
        "X_pca= pca.fit_transform(data.drop(['pIC50'] , axis =1 ))\n",
        "\n",
        "\n",
        "# Prepare X and y\n",
        "x = X_pca\n",
        "y = data.pIC50.values.reshape((-1,1))\n",
        "\n",
        "# Train-test split\n",
        "X_train, X_test, y_train, y_test = train_test_split(x, y, test_size=0.2, random_state=42)\n",
        "\n",
        "# Normalize y using StandardScaler\n",
        "scaler = StandardScaler()\n",
        "y_train = scaler.fit_transform(y_train)\n",
        "y_test = scaler.transform(y_test)\n",
        "\n",
        "# Convert data to PyTorch tensors\n",
        "device = torch.device(\"cpu\")\n",
        "X_train = torch.tensor(X_train, device=device).float()\n",
        "X_test = torch.tensor(X_test, device=device).float()\n",
        "y_train = torch.tensor(y_train, device=device).float()\n",
        "y_test = torch.tensor(y_test, device=device).float()\n",
        "\n",
        "# Create DataLoader for training\n",
        "from torch.utils.data import TensorDataset, DataLoader\n",
        "\n",
        "train_dataset = TensorDataset(X_train, y_train)\n",
        "train_loader = DataLoader(dataset=train_dataset, batch_size=16, shuffle=True)\n"
      ]
    },
    {
      "cell_type": "markdown",
      "source": [
        "# **model from qsar lesson**"
      ],
      "metadata": {
        "id": "Edvc6cdBcNcd"
      }
    },
    {
      "cell_type": "code",
      "source": [
        "class Net(nn.Module):\n",
        "    def __init__(self, input_size, hidden_size, dropout_rate, out_size):\n",
        "        super(Net, self).__init__()\n",
        "        self.fc1 = nn.Linear(input_size, hidden_size)\n",
        "        self.fc2 = nn.Linear(hidden_size, hidden_size)\n",
        "        self.fc3 = nn.Linear(hidden_size, hidden_size)\n",
        "        self.fc_out = nn.Linear(hidden_size, out_size)\n",
        "        self.ln1 = nn.LayerNorm(hidden_size)\n",
        "        self.ln2 = nn.LayerNorm(hidden_size)\n",
        "        self.ln3 = nn.LayerNorm(hidden_size)\n",
        "        self.activation = nn.LeakyReLU()\n",
        "        self.dropout = nn.Dropout(dropout_rate)\n",
        "\n",
        "    def forward(self, x):\n",
        "        out = self.fc1(x)\n",
        "        out = self.ln1(out)\n",
        "        out = self.activation(out)\n",
        "        out = self.dropout(out)\n",
        "\n",
        "        out = self.fc2(out)\n",
        "        out = self.ln2(out)\n",
        "        out = self.activation(out)\n",
        "        out = self.dropout(out)\n",
        "\n",
        "        out = self.fc3(out)\n",
        "        out = self.ln3(out)\n",
        "        out = self.activation(out)\n",
        "        out = self.dropout(out)\n",
        "\n",
        "        out = self.fc_out(out)\n",
        "        return out\n",
        "\n",
        "# Define hyperparameters\n",
        "input_size = 104\n",
        "hidden_size = 1024\n",
        "dropout_rate = 0.80\n",
        "output_size = 1\n",
        "learning_rate = 0.001\n"
      ],
      "metadata": {
        "id": "5aL2FadIVmZK"
      },
      "execution_count": null,
      "outputs": []
    },
    {
      "cell_type": "code",
      "source": [
        "# Initialize model, criterion, and optimizer\n",
        "model = Net(input_size, hidden_size, dropout_rate, output_size)\n",
        "criterion = nn.MSELoss()\n",
        "optimizer = torch.optim.Adam(model.parameters(), lr=learning_rate)\n",
        "\n",
        "# Training loop\n",
        "model.train()\n",
        "epochs = 200\n",
        "for e in range(epochs):\n",
        "    running_loss = 0\n",
        "    for fps, labels in train_loader:\n",
        "        optimizer.zero_grad()\n",
        "        output = model(fps)\n",
        "        loss = criterion(output, labels)\n",
        "        loss.backward()\n",
        "        optimizer.step()\n",
        "        running_loss += loss.item()\n",
        "    else:\n",
        "        if e % 10 == 0:\n",
        "            print(f\"Epoch: {e:3d} Training loss: {running_loss / len(train_loader):.2f}\")\n",
        "\n",
        "# Evaluation on test set\n",
        "model.eval()\n",
        "y_pred_test = model(X_test)\n",
        "r2_test = r2_score(y_test.detach().numpy(), y_pred_test.detach().numpy())\n",
        "\n",
        "print(f\"R^2 score on test set: {r2_test:.2f}\")\n"
      ],
      "metadata": {
        "colab": {
          "base_uri": "https://localhost:8080/"
        },
        "id": "F-yNKr0ea0KJ",
        "outputId": "355dcb32-c317-4fa4-cb2d-2ea7162d1f3f"
      },
      "execution_count": null,
      "outputs": [
        {
          "output_type": "stream",
          "name": "stdout",
          "text": [
            "Epoch:   0 Training loss: 1.59\n",
            "Epoch:  10 Training loss: 0.52\n",
            "Epoch:  20 Training loss: 0.41\n",
            "Epoch:  30 Training loss: 0.37\n",
            "Epoch:  40 Training loss: 0.32\n",
            "Epoch:  50 Training loss: 0.30\n",
            "Epoch:  60 Training loss: 0.27\n",
            "Epoch:  70 Training loss: 0.25\n",
            "Epoch:  80 Training loss: 0.24\n",
            "Epoch:  90 Training loss: 0.22\n",
            "Epoch: 100 Training loss: 0.20\n",
            "Epoch: 110 Training loss: 0.21\n",
            "Epoch: 120 Training loss: 0.20\n",
            "Epoch: 130 Training loss: 0.21\n",
            "Epoch: 140 Training loss: 0.17\n",
            "Epoch: 150 Training loss: 0.16\n",
            "Epoch: 160 Training loss: 0.18\n",
            "Epoch: 170 Training loss: 0.17\n",
            "Epoch: 180 Training loss: 0.17\n",
            "Epoch: 190 Training loss: 0.16\n",
            "R^2 score on test set: 0.58\n"
          ]
        }
      ]
    },
    {
      "cell_type": "markdown",
      "source": [
        "# **another model**"
      ],
      "metadata": {
        "id": "-MOsUhdabGvL"
      }
    },
    {
      "cell_type": "code",
      "source": [
        "class MLP(nn.Module):\n",
        "  '''\n",
        "    Multilayer Perceptron for regression.\n",
        "  '''\n",
        "  def __init__(self):\n",
        "    super().__init__()\n",
        "    self.layers = nn.Sequential(\n",
        "      nn.Linear(104, 64),\n",
        "      nn.ReLU(),\n",
        "      nn.Linear(64, 32),\n",
        "      nn.ReLU(),\n",
        "      nn.Linear(32, 1)\n",
        "    )\n",
        "\n",
        "\n",
        "  def forward(self, x):\n",
        "    '''\n",
        "      Forward pass\n",
        "    '''\n",
        "    return self.layers(x)"
      ],
      "metadata": {
        "id": "sBVFg1qkbGeb"
      },
      "execution_count": null,
      "outputs": []
    },
    {
      "cell_type": "code",
      "source": [
        " mlp = MLP()\n",
        "\n",
        "loss_function = nn.MSELoss()\n",
        "optimizer = torch.optim.Adam(mlp.parameters(), lr=1e-4)"
      ],
      "metadata": {
        "id": "VZr9jN7hWdmi"
      },
      "execution_count": null,
      "outputs": []
    },
    {
      "cell_type": "code",
      "source": [
        "epochs =1500\n",
        "losses = []\n",
        "for i in range (epochs) :\n",
        "  #go forward\n",
        "  y_pred = mlp.forward(X_train)\n",
        "  #measure loss\n",
        "  loss =  loss_function(y_pred , y_train)\n",
        "  losses.append(loss.detach().numpy())\n",
        "  if i % 100 == 0 :\n",
        "    print(f'epoch:{i} and loss : {loss}')\n",
        "  #back propagation\n",
        "  optimizer.zero_grad()\n",
        "  loss.backward()\n",
        "  optimizer.step()\n"
      ],
      "metadata": {
        "colab": {
          "base_uri": "https://localhost:8080/"
        },
        "id": "aoEFg1U1WwOG",
        "outputId": "eb0c3b1a-bd69-423b-ebe0-4547b4a16756"
      },
      "execution_count": null,
      "outputs": [
        {
          "output_type": "stream",
          "name": "stdout",
          "text": [
            "epoch:0 and loss : 1.0470212697982788\n",
            "epoch:100 and loss : 0.8924649357795715\n",
            "epoch:200 and loss : 0.6754068732261658\n",
            "epoch:300 and loss : 0.45154502987861633\n",
            "epoch:400 and loss : 0.3164221942424774\n",
            "epoch:500 and loss : 0.25719645619392395\n",
            "epoch:600 and loss : 0.22310930490493774\n",
            "epoch:700 and loss : 0.195441335439682\n",
            "epoch:800 and loss : 0.17173230648040771\n",
            "epoch:900 and loss : 0.1508828103542328\n",
            "epoch:1000 and loss : 0.13257895410060883\n",
            "epoch:1100 and loss : 0.11698385328054428\n",
            "epoch:1200 and loss : 0.10378323495388031\n",
            "epoch:1300 and loss : 0.09265144169330597\n",
            "epoch:1400 and loss : 0.08353286236524582\n"
          ]
        }
      ]
    },
    {
      "cell_type": "code",
      "source": [
        "plt.plot(range(epochs) , losses)\n",
        "plt.xlabel(\"loss\")\n",
        "plt.ylabel(\"epochs\")\n",
        "plt.show()"
      ],
      "metadata": {
        "colab": {
          "base_uri": "https://localhost:8080/",
          "height": 449
        },
        "id": "igZd_lRBYa_C",
        "outputId": "0357f8ba-ad81-4d5e-f13b-05a15e1ca043"
      },
      "execution_count": null,
      "outputs": [
        {
          "output_type": "display_data",
          "data": {
            "text/plain": [
              "<Figure size 640x480 with 1 Axes>"
            ],
            "image/png": "[encoded data removed]"
          },
          "metadata": {}
        }
      ]
    },
    {
      "cell_type": "code",
      "source": [
        "y_pred_test = mlp(X_test)\n",
        "r2_test = r2_score(y_test.detach().numpy(), y_pred_test.detach().numpy())\n",
        "\n",
        "print(f\"R^2 score on test set: {r2_test:.2f}\")\n"
      ],
      "metadata": {
        "colab": {
          "base_uri": "https://localhost:8080/"
        },
        "id": "7KWf-rUNYzzb",
        "outputId": "42890bce-45ec-43fe-ca3a-5d3b886d0c73"
      },
      "execution_count": null,
      "outputs": [
        {
          "output_type": "stream",
          "name": "stdout",
          "text": [
            "R^2 score on test set: 0.50\n"
          ]
        }
      ]
    }
  ]
}